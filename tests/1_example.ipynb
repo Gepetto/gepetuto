{
 "cells": [
  {
   "cell_type": "code",
   "execution_count": null,
   "id": "f2fe3084",
   "metadata": {},
   "outputs": [],
   "source": [
    "# %load tp1/generated/example_snippet_example\n",
    "import pinocchio as pin\n",
    "\n",
    "oma = pin.SE3.Random()\n",
    "omb = pin.SE3.Random()\n",
    "amb = oma.inverse() * omb\n"
   ]
  },
  {
   "cell_type": "code",
   "execution_count": null,
   "id": "9bc368d8",
   "metadata": {},
   "outputs": [],
   "source": []
  }
 ],
 "metadata": {
  "kernelspec": {
   "display_name": "Python 3 (ipykernel)",
   "language": "python",
   "name": "python3"
  },
  "language_info": {
   "codemirror_mode": {
    "name": "ipython",
    "version": 3
   },
   "file_extension": ".py",
   "mimetype": "text/x-python",
   "name": "python",
   "nbconvert_exporter": "python",
   "pygments_lexer": "ipython3",
   "version": "3.8.10"
  }
 },
 "nbformat": 4,
 "nbformat_minor": 5
}
